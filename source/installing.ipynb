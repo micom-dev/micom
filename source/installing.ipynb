{
 "cells": [
  {
   "cell_type": "markdown",
   "metadata": {},
   "source": [
    "# Installing micom\n",
    "\n",
    "`micom` is present on PyPi (the Python Package Index), so it can be installed via pip with"
   ]
  },
  {
   "cell_type": "markdown",
   "metadata": {},
   "source": [
    "```bash\n",
    "pip install --user micom\n",
    "```"
   ]
  },
  {
   "cell_type": "markdown",
   "metadata": {},
   "source": [
    "For a system-wide installation you can omit `--user`.\n",
    "\n",
    "The same installation strategy also works with Anaconda installations or any other Python distribution. Supported Python versions are 3.6 and 3.7.\n",
    "\n",
    "## Install a QP solver\n",
    "\n",
    "Many of the methods in `micom` unfortunately require high performance and QP-capable solvers. Thus, for full functionality you will require a commercial solver such as [Cplex](https://www.ibm.com/products/ilog-cplex-optimization-studio)\n",
    "or [Gurobi](http://www.gurobi.com/index). Both have academic licenses and can be obtained for free for academic users.\n",
    "\n",
    "### CPLEX\n",
    "\n",
    "After registering and downloading the CPLEX studio for your OS unpack it (by running the provided installer) to a directory of your choice (we will assume it's called ibm).\n",
    "\n",
    "Now install the CPLEX python package:\n",
    "\n",
    "```bash\n",
    "pip install ibm/cplex/python/3.6/x86-64_linux\n",
    "```\n",
    "\n",
    "### Gurobi\n",
    "\n",
    "Gurobi can be installed with conda.\n",
    "\n",
    "```bash\n",
    "conda install -c gurobi gurobi\n",
    "```\n",
    "\n",
    "You will now have to register the installation using your license key.\n",
    "\n",
    "```bash\n",
    "grbgetkey YOUR-LICENSE-KEY\n",
    "```"
   ]
  },
  {
   "cell_type": "code",
   "execution_count": null,
   "metadata": {},
   "outputs": [],
   "source": []
  }
 ],
 "metadata": {
  "kernelspec": {
   "display_name": "Python 3",
   "language": "python",
   "name": "python3"
  },
  "language_info": {
   "codemirror_mode": {
    "name": "ipython",
    "version": 3
   },
   "file_extension": ".py",
   "mimetype": "text/x-python",
   "name": "python",
   "nbconvert_exporter": "python",
   "pygments_lexer": "ipython3",
   "version": "3.8.5"
  }
 },
 "nbformat": 4,
 "nbformat_minor": 4
}
