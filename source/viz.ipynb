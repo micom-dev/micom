{
 "cells": [
  {
   "cell_type": "markdown",
   "metadata": {},
   "source": [
    "## Visualizations\n",
    "\n",
    "MICOM provides a a set of visualizations that can be used with the outputs from MICOM workflows. Those visualizations are the same as provided by the [MICOM Qiime 2 plugin](https://github.com/micom-dev/q2-micom) but are delivered as single HTML files that bundles interactive graphics and raw data.\n",
    "\n",
    "To create some more interesting figures here we will use a realistic example data set which is the output of running the MICOM grow workflow on a data set of 8 healthy fecal samples and 8 fecal samples from individuals with colorectal cancer taken from https://doi.org/10.1158/1940-6207.CAPR-14-0129. To see the interactive evrsion of a visualization you can click on the provided previews. All visualization contain download buttons to download the raw data used to generate the plot. "
   ]
  },
  {
   "cell_type": "code",
   "execution_count": 1,
   "metadata": {},
   "outputs": [],
   "source": [
    "import micom.data as mmd\n",
    "\n",
    "crc_results = mmd.crc_results()\n",
    "crc_tradeoff = mmd.crc_tradeoff()"
   ]
  },
  {
   "cell_type": "markdown",
   "metadata": {},
   "source": [
    "### Choosing a tradeoff value\n",
    "\n",
    "In the original MICOM publication we chose the tradeoff based on comparisons with *in vivo* replication rates derived from metagenome data. However, we observed that the highest correlation with replication rates is usually achieved at the largest tradeoff value that allows the majority of the taxa to grow. Thus, we can run cooperative tradeoff with varying tradeoff values and look for the characteristic elbow where the majority of the community can grow. This can be done by using the `plot_tradeoff` function. "
   ]
  },
  {
   "cell_type": "code",
   "execution_count": 2,
   "metadata": {},
   "outputs": [],
   "source": [
    "from micom.viz import plot_tradeoff\n",
    "\n",
    "pl = plot_tradeoff(crc_tradeoff, filename=\"tradeoff.html\")"
   ]
  },
  {
   "cell_type": "markdown",
   "metadata": {},
   "source": [
    "The returned object is a `Visualization` object that contains the raw data in the data attribute. "
   ]
  },
  {
   "cell_type": "code",
   "execution_count": 3,
   "metadata": {},
   "outputs": [
    {
     "data": {
      "text/plain": [
       "<micom.viz.core.Visualization at 0x7f17f0774490>"
      ]
     },
     "execution_count": 3,
     "metadata": {},
     "output_type": "execute_result"
    }
   ],
   "source": [
    "pl"
   ]
  },
  {
   "cell_type": "code",
   "execution_count": 4,
   "metadata": {},
   "outputs": [
    {
     "data": {
      "text/plain": [
       "dict_keys(['tradeoff'])"
      ]
     },
     "execution_count": 4,
     "metadata": {},
     "output_type": "execute_result"
    }
   ],
   "source": [
    "pl.data.keys()"
   ]
  },
  {
   "cell_type": "markdown",
   "metadata": {},
   "source": [
    "You could open the visualization in your browser with `pl.view()`. Alternatively you can just open the generated HTML file which would give you something like this:\n",
    "\n",
    "[![tradeoff](_static/tradeoff.png)](_static/tradeoff.html)"
   ]
  },
  {
   "cell_type": "markdown",
   "metadata": {},
   "source": [
    "### Plotting growth rates\n",
    "\n",
    "The first thing we may want to investigate are the growth rates predicted by MICOM. This can be done with the `plot_growth` function."
   ]
  },
  {
   "cell_type": "code",
   "execution_count": 5,
   "metadata": {},
   "outputs": [],
   "source": [
    "from micom.viz import plot_growth\n",
    "\n",
    "pl = plot_growth(crc_results, filename=\"growth_rates.html\")"
   ]
  },
  {
   "cell_type": "markdown",
   "metadata": {},
   "source": [
    "Which will give you the following:\n",
    "\n",
    "[![growth rates](_static/growth_rates.png)](_static/growth_rates.html)"
   ]
  },
  {
   "cell_type": "markdown",
   "metadata": {},
   "source": [
    "### Plotting consumed metabolites\n",
    "\n",
    "To get an overview which metabolites are consumed by the entire microbiota we can use the `plot_exchanges_per_sample` function."
   ]
  },
  {
   "cell_type": "code",
   "execution_count": 6,
   "metadata": {},
   "outputs": [],
   "source": [
    "from micom.viz import plot_exchanges_per_sample\n",
    "\n",
    "pl = plot_exchanges_per_sample(crc_results, filename=\"consumption.html\")"
   ]
  },
  {
   "cell_type": "markdown",
   "metadata": {},
   "source": [
    "This will give you a heatmap showing all consumed components. Unless specified otherwise in the function arguments samples will be clustered so that samples with similar consumption profiles will be close.\n",
    "\n",
    "[![consumption](_static/consumption.png)](_static/consumption.html)"
   ]
  },
  {
   "cell_type": "markdown",
   "metadata": {},
   "source": [
    "### Plotting growth niches\n",
    "\n",
    "What is consumed globally may be interesting but we may want to know even more how the available growth niches are occupied by the taxa in the sample. This can be done with `plot_exchanges_per_taxon` which will embed the import fluxes for each taxon into two dimension using TSNE and plot the niche occupation map. Here taxa that overlap compete for similar sets of resources. The center of the map denotes the most competitive niche whereas the outskirts of the map denote more specialized consumption preferences."
   ]
  },
  {
   "cell_type": "code",
   "execution_count": 7,
   "metadata": {},
   "outputs": [],
   "source": [
    "from micom.viz import plot_exchanges_per_taxon\n",
    "\n",
    "pl = plot_exchanges_per_taxon(crc_results, filename=\"niche.html\")"
   ]
  },
  {
   "cell_type": "markdown",
   "metadata": {},
   "source": [
    "This will give you the following:\n",
    "\n",
    "[![niche](_static/niche.png)](_static/niche.html)"
   ]
  },
  {
   "cell_type": "markdown",
   "metadata": {},
   "source": [
    "### Investigating the relationship with the phenotype\n",
    "\n",
    "Finally we may want to which functions relate to an observed phenotype. This can be done with the `plot_fit` function which will:\n",
    "\n",
    "1. calculate overall production fluxes (total metabolite amount produced by the microbiota)\n",
    "2. log-transform and standardize production fluxes\n",
    "3. train a LASSO regression (continuous response) or LASSO logistic regression (binary response)\n",
    "4. present the coefficients and differences in production fluxes"
   ]
  },
  {
   "cell_type": "code",
   "execution_count": 8,
   "metadata": {},
   "outputs": [],
   "source": [
    "from micom.viz import plot_fit\n",
    "import pandas as pd\n",
    "\n",
    "samples = pd.Series(crc_results.growth_rates.sample_id.unique())\n",
    "status = pd.Series(\"healthy\", index=samples)\n",
    "status[status.index.str.startswith(\"Cancer\")] = \"colorectal cancer\"\n",
    "pl = plot_fit(crc_results, phenotype=status, variable_type=\"binary\", filename=\"fit.html\", min_coef=1e-3)"
   ]
  },
  {
   "cell_type": "markdown",
   "metadata": {},
   "source": [
    "The output will look something like the following.\n",
    "\n",
    "[![fit](_static/fit.png)](_static/fit.html)"
   ]
  },
  {
   "cell_type": "markdown",
   "metadata": {},
   "source": [
    "So we see some higher sulfate production in cancer cases but also production of harmful components as TMAO. However, with the low sample numbers we don't get a very good prediction based on fluxes."
   ]
  },
  {
   "cell_type": "code",
   "execution_count": null,
   "metadata": {},
   "outputs": [],
   "source": []
  }
 ],
 "metadata": {
  "kernelspec": {
   "display_name": "Python 3",
   "language": "python",
   "name": "python3"
  },
  "language_info": {
   "codemirror_mode": {
    "name": "ipython",
    "version": 3
   },
   "file_extension": ".py",
   "mimetype": "text/x-python",
   "name": "python",
   "nbconvert_exporter": "python",
   "pygments_lexer": "ipython3",
   "version": "3.9.2"
  }
 },
 "nbformat": 4,
 "nbformat_minor": 4
}
