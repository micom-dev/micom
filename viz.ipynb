{
 "cells": [
  {
   "cell_type": "markdown",
   "metadata": {},
   "source": [
    "## Visualizations\n",
    "\n",
    "MICOM provides a a set of visualizations that can be used with the outputs from MICOM workflows. Those visualizations are the same as provided by the [MICOM Qiime 2 plugin](https://github.com/micom-dev/q2-micom) but are delivered as single HTML files that bundles interactive graphics and raw data.\n",
    "\n",
    "To create some more interesting figures here we will use a realistic example data set which is the output of running the MICOM grow workflow on a data set of 10 healthy fecal samples from the [iHMP cohort](https://www.hmpdacc.org/ihmp/). To see the interactive version of a visualization you can click on the provided previews. All visualization contain download buttons to download the raw data used to generate the plot. "
   ]
  },
  {
   "cell_type": "code",
   "execution_count": 1,
   "metadata": {},
   "outputs": [],
   "source": [
    "import micom.data as mmd\n",
    "\n",
    "results = mmd.test_results()\n",
    "tradeoff = mmd.test_tradeoff()"
   ]
  },
  {
   "cell_type": "markdown",
   "metadata": {},
   "source": [
    "### Choosing a tradeoff value\n",
    "\n",
    "In the original MICOM publication we chose the tradeoff based on comparisons with *in vivo* replication rates derived from metagenome data. However, we observed that the highest correlation with replication rates is usually achieved at the largest tradeoff value that allows the majority of the taxa to grow. Thus, we can run cooperative tradeoff with varying tradeoff values and look for the characteristic elbow where the majority of the community can grow. This can be done by using the `plot_tradeoff` function. "
   ]
  },
  {
   "cell_type": "code",
   "execution_count": 2,
   "metadata": {},
   "outputs": [],
   "source": [
    "from micom.viz import plot_tradeoff\n",
    "\n",
    "pl = plot_tradeoff(tradeoff, filename=\"tradeoff.html\")"
   ]
  },
  {
   "cell_type": "markdown",
   "metadata": {},
   "source": [
    "The returned object is a `Visualization` object that contains the raw data in the data attribute. "
   ]
  },
  {
   "cell_type": "code",
   "execution_count": 3,
   "metadata": {},
   "outputs": [
    {
     "data": {
      "text/plain": [
       "<micom.viz.core.Visualization at 0x7fe492ffce90>"
      ]
     },
     "execution_count": 3,
     "metadata": {},
     "output_type": "execute_result"
    }
   ],
   "source": [
    "pl"
   ]
  },
  {
   "cell_type": "code",
   "execution_count": 4,
   "metadata": {},
   "outputs": [
    {
     "data": {
      "text/plain": [
       "dict_keys(['tradeoff'])"
      ]
     },
     "execution_count": 4,
     "metadata": {},
     "output_type": "execute_result"
    }
   ],
   "source": [
    "pl.data.keys()"
   ]
  },
  {
   "cell_type": "markdown",
   "metadata": {},
   "source": [
    "You could open the visualization in your browser with `pl.view()`. Alternatively you can just open the generated HTML file which would give you something like this:\n",
    "\n",
    "[![tradeoff](_static/tradeoff.png)](_static/tradeoff.html)"
   ]
  },
  {
   "cell_type": "markdown",
   "metadata": {},
   "source": [
    "### Plotting growth rates\n",
    "\n",
    "The first thing we may want to investigate are the growth rates predicted by MICOM. This can be done with the `plot_growth` function."
   ]
  },
  {
   "cell_type": "code",
   "execution_count": 5,
   "metadata": {},
   "outputs": [],
   "source": [
    "from micom.viz import plot_growth\n",
    "\n",
    "pl = plot_growth(results, filename=\"growth_rates.html\")"
   ]
  },
  {
   "cell_type": "markdown",
   "metadata": {},
   "source": [
    "Which will give you the following:\n",
    "\n",
    "[![growth rates](_static/growth_rates.png)](_static/growth_rates.html)"
   ]
  },
  {
   "cell_type": "markdown",
   "metadata": {},
   "source": [
    "### Plotting consumed metabolites\n",
    "\n",
    "To get an overview which metabolites are consumed by the entire microbiota we can use the `plot_exchanges_per_sample` function."
   ]
  },
  {
   "cell_type": "code",
   "execution_count": 6,
   "metadata": {},
   "outputs": [],
   "source": [
    "from micom.viz import plot_exchanges_per_sample\n",
    "\n",
    "pl = plot_exchanges_per_sample(results, filename=\"consumption.html\")"
   ]
  },
  {
   "cell_type": "markdown",
   "metadata": {},
   "source": [
    "This will give you a heatmap showing all consumed components. Unless specified otherwise in the function arguments samples will be clustered so that samples with similar consumption profiles will be close.\n",
    "\n",
    "[![consumption](_static/consumption.png)](_static/consumption.html)"
   ]
  },
  {
   "cell_type": "markdown",
   "metadata": {},
   "source": [
    "### Plotting growth niches\n",
    "\n",
    "What is consumed globally may be interesting but we may want to know even more how the available growth niches are occupied by the taxa in the sample. This can be done with `plot_exchanges_per_taxon` which will embed the import fluxes for each taxon into two dimension using TSNE and plot the niche occupation map. Here taxa that overlap compete for similar sets of resources. The center of the map denotes the most competitive niche whereas the outskirts of the map denote more specialized consumption preferences."
   ]
  },
  {
   "cell_type": "code",
   "execution_count": 7,
   "metadata": {},
   "outputs": [
    {
     "data": {
      "text/html": [
       "<pre style=\"white-space:pre;overflow-x:auto;line-height:normal;font-family:Menlo,'DejaVu Sans Mono',consolas,'Courier New',monospace\"><span style=\"color: #7fbfbf; text-decoration-color: #7fbfbf\">[12:54:10] </span><span style=\"color: #800000; text-decoration-color: #800000\">WARNING </span> Not enough samples. Adjusting T-SNE perplexity to <span style=\"color: #008080; text-decoration-color: #008080; font-weight: bold\">5</span>.                           <a href=\"file:///home/cdiener/code/micom/micom/viz/exchanges.py\" target=\"_blank\"><span style=\"color: #7f7f7f; text-decoration-color: #7f7f7f\">exchanges.py</span></a><span style=\"color: #7f7f7f; text-decoration-color: #7f7f7f\">:</span><a href=\"file:///home/cdiener/code/micom/micom/viz/exchanges.py#127\" target=\"_blank\"><span style=\"color: #7f7f7f; text-decoration-color: #7f7f7f\">127</span></a>\n",
       "</pre>\n"
      ],
      "text/plain": [
       "\u001b[2;36m[12:54:10]\u001b[0m\u001b[2;36m \u001b[0m\u001b[31mWARNING \u001b[0m Not enough samples. Adjusting T-SNE perplexity to \u001b[1;36m5\u001b[0m.                           \u001b]8;id=930319;file:///home/cdiener/code/micom/micom/viz/exchanges.py\u001b\\\u001b[2mexchanges.py\u001b[0m\u001b]8;;\u001b\\\u001b[2m:\u001b[0m\u001b]8;id=152218;file:///home/cdiener/code/micom/micom/viz/exchanges.py#127\u001b\\\u001b[2m127\u001b[0m\u001b]8;;\u001b\\\n"
      ]
     },
     "metadata": {},
     "output_type": "display_data"
    }
   ],
   "source": [
    "from micom.viz import plot_exchanges_per_taxon\n",
    "\n",
    "pl = plot_exchanges_per_taxon(results, filename=\"niche.html\")"
   ]
  },
  {
   "cell_type": "markdown",
   "metadata": {},
   "source": [
    "This will give you the following:\n",
    "\n",
    "[![niche](_static/niche.png)](_static/niche.html)"
   ]
  },
  {
   "cell_type": "markdown",
   "metadata": {},
   "source": [
    "### Investigating associations with a phenotype\n",
    "\n",
    "Finally we may want to which fluxes relate to an observed phenotype. This can be done with the `plot_association` function which will:\n",
    "\n",
    "1. calculate overall production or consumption fluxes (total metabolite amount produced by the microbiota)\n",
    "2. run non-parametric tests for each metabolite against the phenotype\n",
    "3. control the flase discovery rate and report significantly associated metabolite fluxes\n",
    "4. log-transform and standardize production fluxes\n",
    "5. train a LASSO regression (continuous response) or LASSO logistic regression (binary response)\n",
    "6. present the overall performance of the fluxes inpredicting the phenotype\n",
    "\n",
    "So you will get data on local (metabolite) and global (all fluxes) associations. \n",
    "\n",
    "To illustrate this we will create a mock phenotype that is correlated with propionate production. We will allow very high q values here. In a real analysis the default of 0.05 is more appropriate,"
   ]
  },
  {
   "cell_type": "code",
   "execution_count": 8,
   "metadata": {},
   "outputs": [],
   "source": [
    "from micom.viz import plot_association\n",
    "from micom.measures import production_rates\n",
    "import numpy as np\n",
    "import pandas as pd\n",
    "\n",
    "prod = production_rates(results)\n",
    "propionate = prod.loc[prod.metabolite == \"ppa[e]\", \"flux\"]\n",
    "propionate.index = prod.sample_id.unique()\n",
    "high_propionate = propionate > np.median(propionate)\n",
    "\n",
    "pl = plot_association(\n",
    "    results,\n",
    "    phenotype=high_propionate,\n",
    "    variable_type=\"binary\",\n",
    "    filename=\"association.html\",\n",
    "    fdr_threshold=0.5,\n",
    ")"
   ]
  },
  {
   "cell_type": "markdown",
   "metadata": {},
   "source": [
    "The output will look something like the following.\n",
    "\n",
    "[![image of the associations](_static/association.png)](_static/association.html)"
   ]
  },
  {
   "cell_type": "markdown",
   "metadata": {},
   "source": [
    "So we see we recovered propionate in the analysis but we would need larger sample sizes here."
   ]
  },
  {
   "cell_type": "markdown",
   "metadata": {},
   "source": [
    "### Plotting interactions\n",
    "\n",
    "We provide support to plot focal interactions for a taxon of interest or the Metabolic Exchange Score (MES). For instance, let's start by plotting the interactions for Akkermansia."
   ]
  },
  {
   "cell_type": "code",
   "execution_count": 9,
   "metadata": {},
   "outputs": [],
   "source": [
    "from micom.viz import plot_focal_interactions\n",
    "\n",
    "pl = plot_focal_interactions(results, taxon=\"s__Akkermansia_muciniphila\")"
   ]
  },
  {
   "cell_type": "markdown",
   "metadata": {},
   "source": [
    "You can choose many types of interaction fluxes by passing the `kind` argument. Currently supported options are:\n",
    "- \"flux\": the raw flux\n",
    "- \"mass\": the mass flux\n",
    "- \"C\": the carbon flux\n",
    "- \"N\": the nitrogen flux\n",
    "\n",
    "This will give you a larger overview that looks like this:"
   ]
  },
  {
   "cell_type": "markdown",
   "metadata": {},
   "source": [
    "\n",
    "[![focal examples](_static/focal.png)](_static/focal.html)"
   ]
  },
  {
   "cell_type": "markdown",
   "metadata": {},
   "source": [
    "Alternatively you can also visualize the Metabolic Exchange Scores. This can be done across different groups as well. To illustrate this let's do this with some random groups."
   ]
  },
  {
   "cell_type": "code",
   "execution_count": 12,
   "metadata": {},
   "outputs": [],
   "source": [
    "from micom.viz import plot_mes\n",
    "\n",
    "groups = pd.Series(\n",
    "    5 * [\"a\"] + 5 * [\"b\"],\n",
    "    index=results.growth_rates.sample_id.unique(),\n",
    "    name=\"random\"\n",
    ")\n",
    "\n",
    "pl = plot_mes(results, groups=groups, filename=\"mes.html\")"
   ]
  },
  {
   "cell_type": "markdown",
   "metadata": {},
   "source": [
    "Here you see the MES for each metabolite and also a global overview across the groups.\n",
    "\n",
    "\n",
    "[![MES example](_static/mes.png)](_static/mes.html)"
   ]
  },
  {
   "cell_type": "markdown",
   "metadata": {},
   "source": []
  }
 ],
 "metadata": {
  "kernelspec": {
   "display_name": "Python 3",
   "language": "python",
   "name": "python3"
  },
  "language_info": {
   "codemirror_mode": {
    "name": "ipython",
    "version": 3
   },
   "file_extension": ".py",
   "mimetype": "text/x-python",
   "name": "python",
   "nbconvert_exporter": "python",
   "pygments_lexer": "ipython3",
   "version": "3.11.8"
  }
 },
 "nbformat": 4,
 "nbformat_minor": 4
}
